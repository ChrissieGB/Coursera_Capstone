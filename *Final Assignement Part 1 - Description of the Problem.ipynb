{
 "cells": [
  {
   "cell_type": "markdown",
   "metadata": {},
   "source": [
    "### BREXIT - What to do next?"
   ]
  },
  {
   "cell_type": "markdown",
   "metadata": {},
   "source": [
    "#### Definition of the problem that many EU citizens in the UK are facing right now:"
   ]
  },
  {
   "cell_type": "markdown",
   "metadata": {},
   "source": [
    "The problem I am discussing and hopefully be solving in this project is a real world issue for many people, in particular European citizens that are currently living in the UK, even though this particular case is fictive.\n",
    "\n",
    "I am a European citizen in London, have been working for a financial institution for many years but, which is now, after Brexit, in the process of outsourcing their operations to a city within the EU and has therefore layed off many of their employees, me and some of my European friends included.\n",
    "\n",
    "With uncertain future working opportunities in London, I have decided to look for jobs elsewhere, successfully as it turned out as I now have two offers for similar roles with comparable packages, both from companies I would like to work for. \n",
    "The problem is, the companies are located in different cities:\n"
   ]
  },
  {
   "cell_type": "markdown",
   "metadata": {},
   "source": [
    "###### Company ABC is in Brussels, Belgium,  Company XYZ is on Frankfurt, Germany."
   ]
  },
  {
   "cell_type": "markdown",
   "metadata": {},
   "source": [
    "I am not familiar with either of the locations (I exclude the language issues from this problem).\n",
    "\n",
    "I don't want to give up my current lifestyle, neither do my friends who are in similar situations.\n",
    "The neighbourhood of London I currently live in provides everything that I need, so my job choice will depend on the circumstances and opportunities in the new location, Frankfurt or Brussels. \n",
    "I will decide on the city/neighbourhood that provides most of the requirements that I and my friends have:\n",
    "\n",
    " - Public transport -> I do not have/want a car, so my new workplace and home as well as other venues need to be connected by a  public transport system.\n",
    "\n",
    " - Cafes/restaurants -> I have no time to cook, I need to pick up my breakfast on the way to work, lunch during my break and have a choice of different restaurants near my new home for dinner with friends.\n",
    "\n",
    " - Gyms or leisure centers -> sport is important to me so I need a gym either in the vicinity of my new home or my workplace.\n",
    "\n",
    " - Culture -> are there museums, theaters nearby that I can visit on the weekends?\n",
    "\n",
    " - Greens -> any parks? Remember, I don't have a car so it must be reachable by bus or train.\n",
    "\n",
    " - Doctors -> where is the nearest doctor/dentist? \n",
    "\n",
    " - Savety, reputation -> how save is the neighbourhood? Are there any 'no go' areas, filthy nightclubs etc nearby?\n",
    " \n",
    " - Cost of living?\n",
    "\n",
    " - Surprises? Any other things that I haven't thought of that may attract or deter me?\n",
    " "
   ]
  },
  {
   "cell_type": "markdown",
   "metadata": {},
   "source": [
    "###### In the following section I will explore the data that I will be using to solve the problem of deciding in which of the two cities I will live in the future."
   ]
  },
  {
   "cell_type": "code",
   "execution_count": null,
   "metadata": {},
   "outputs": [],
   "source": []
  }
 ],
 "metadata": {
  "kernelspec": {
   "display_name": "Python 3",
   "language": "python",
   "name": "python3"
  },
  "language_info": {
   "codemirror_mode": {
    "name": "ipython",
    "version": 3
   },
   "file_extension": ".py",
   "mimetype": "text/x-python",
   "name": "python",
   "nbconvert_exporter": "python",
   "pygments_lexer": "ipython3",
   "version": "3.7.2"
  }
 },
 "nbformat": 4,
 "nbformat_minor": 4
}
